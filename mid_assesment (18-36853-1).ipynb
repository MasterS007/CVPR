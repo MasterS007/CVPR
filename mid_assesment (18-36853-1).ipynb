{
 "cells": [
  {
   "cell_type": "code",
   "execution_count": 1,
   "metadata": {},
   "outputs": [],
   "source": [
    "import numpy as np\n",
    "import matplotlib.pyplot as plt\n",
    "import cv2\n",
    "import os\n",
    "import random\n",
    "from tqdm import tqdm"
   ]
  },
  {
   "cell_type": "code",
   "execution_count": 4,
   "metadata": {},
   "outputs": [],
   "source": [
    "# Here file is converted to np ndarray\n",
    "def unpickle(file):\n",
    "    import pickle\n",
    "    with open(file, 'rb') as fo:\n",
    "        dict = pickle.load(fo, encoding='bytes')\n",
    "    return dict"
   ]
  },
  {
   "cell_type": "code",
   "execution_count": 5,
   "metadata": {},
   "outputs": [],
   "source": [
    "file=\"C:\\\\Users\\\\munir\\\\Desktop\\\\cvpr\\\\cifar-10-batches-py\\\\\""
   ]
  },
  {
   "cell_type": "code",
   "execution_count": 4,
   "metadata": {},
   "outputs": [],
   "source": [
    "dir=['fold1', 'fold2', 'fold3', 'fold4', 'fold5']\n"
   ]
  },
  {
   "cell_type": "code",
   "execution_count": 5,
   "metadata": {},
   "outputs": [],
   "source": [
    "dataset=[0,1,2,3,4]\n"
   ]
  },
  {
   "cell_type": "code",
   "execution_count": 6,
   "metadata": {},
   "outputs": [],
   "source": [
    "# unpickle the zip file\n",
    "for i,dirc in zip(dataset,dir):\n",
    "    dataset[i]=unpickle(file + dirc)"
   ]
  },
  {
   "cell_type": "code",
   "execution_count": 7,
   "metadata": {},
   "outputs": [],
   "source": [
    "# datasets are divided into batches\n",
    "fold1=dataset[0]\n",
    "fold2=dataset[1]\n",
    "fold3=dataset[2]\n",
    "fold4=dataset[3]\n",
    "fold5=dataset[4]\n"
   ]
  },
  {
   "cell_type": "code",
   "execution_count": 19,
   "metadata": {},
   "outputs": [
    {
     "name": "stdout",
     "output_type": "stream",
     "text": [
      "(10000, 32, 32, 3)\n"
     ]
    }
   ],
   "source": [
    "# l-> label, m->image... showed 100000 image for onefold\n",
    "\n",
    "l=fold1[b'data']\n",
    "m=l.reshape(10000,3,32,32).transpose(0,2,3,1).astype(\"uint8\")\n",
    "print(m.shape)"
   ]
  },
  {
   "cell_type": "code",
   "execution_count": 27,
   "metadata": {},
   "outputs": [
    {
     "name": "stdout",
     "output_type": "stream",
     "text": [
      "9\n"
     ]
    }
   ],
   "source": [
    "n=fold1[b'labels']\n",
    "print(n[1])"
   ]
  },
  {
   "cell_type": "code",
   "execution_count": 29,
   "metadata": {},
   "outputs": [
    {
     "data": {
      "text/plain": [
       "<matplotlib.image.AxesImage at 0x211953aa1f0>"
      ]
     },
     "execution_count": 29,
     "metadata": {},
     "output_type": "execute_result"
    },
    {
     "data": {
      "image/png": "[encoded data removed]",
      "text/plain": [
       "<Figure size 432x288 with 1 Axes>"
      ]
     },
     "metadata": {
      "needs_background": "light"
     },
     "output_type": "display_data"
    }
   ],
   "source": [
    "# ploting an image from fold1\n",
    "plt.imshow(m[1])"
   ]
  },
  {
   "cell_type": "code",
   "execution_count": 55,
   "metadata": {},
   "outputs": [
    {
     "data": {
      "text/plain": [
       "<matplotlib.image.AxesImage at 0x1fc7cef7d00>"
      ]
     },
     "execution_count": 55,
     "metadata": {},
     "output_type": "execute_result"
    },
    {
     "data": {
      "image/png": "[encoded data removed]",
      "text/plain": [
       "<Figure size 432x288 with 1 Axes>"
      ]
     },
     "metadata": {
      "needs_background": "light"
     },
     "output_type": "display_data"
    }
   ],
   "source": [
    "plt.imshow(m[9])"
   ]
  },
  {
   "cell_type": "code",
   "execution_count": 56,
   "metadata": {},
   "outputs": [
    {
     "data": {
      "text/plain": [
       "<matplotlib.image.AxesImage at 0x1fc7ce99ee0>"
      ]
     },
     "execution_count": 56,
     "metadata": {},
     "output_type": "execute_result"
    },
    {
     "data": {
      "image/png": "[encoded data removed]",
      "text/plain": [
       "<Figure size 432x288 with 1 Axes>"
      ]
     },
     "metadata": {
      "needs_background": "light"
     },
     "output_type": "display_data"
    }
   ],
   "source": [
    "plt.imshow(m[8])"
   ]
  },
  {
   "cell_type": "code",
   "execution_count": 33,
   "metadata": {},
   "outputs": [
    {
     "name": "stdout",
     "output_type": "stream",
     "text": [
      "(10000, 32, 32, 3)\n"
     ]
    }
   ],
   "source": [
    "print(m.shape)"
   ]
  },
  {
   "cell_type": "code",
   "execution_count": 34,
   "metadata": {},
   "outputs": [
    {
     "data": {
      "text/plain": [
       "dict_keys([b'batch_label', b'labels', b'data', b'filenames'])"
      ]
     },
     "execution_count": 34,
     "metadata": {},
     "output_type": "execute_result"
    }
   ],
   "source": [
    "fold2.keys()"
   ]
  },
  {
   "cell_type": "code",
   "execution_count": 35,
   "metadata": {},
   "outputs": [
    {
     "name": "stdout",
     "output_type": "stream",
     "text": [
      "6\n"
     ]
    }
   ],
   "source": [
    "n=fold2[b'labels']\n",
    "print(n[1])"
   ]
  },
  {
   "cell_type": "code",
   "execution_count": 37,
   "metadata": {},
   "outputs": [
    {
     "name": "stdout",
     "output_type": "stream",
     "text": [
      "(10000, 32, 32, 3)\n"
     ]
    }
   ],
   "source": [
    "# images are reorganized and reshape\n",
    "k=fold2[b'data']\n",
    "o=k.reshape(10000,3,32,32).transpose(0,2,3,1).astype(\"uint8\")\n",
    "print(o.shape)"
   ]
  },
  {
   "cell_type": "code",
   "execution_count": 38,
   "metadata": {},
   "outputs": [
    {
     "data": {
      "text/plain": [
       "<matplotlib.image.AxesImage at 0x211955d0220>"
      ]
     },
     "execution_count": 38,
     "metadata": {},
     "output_type": "execute_result"
    },
    {
     "data": {
      "image/png": "[encoded data removed]",
      "text/plain": [
       "<Figure size 432x288 with 1 Axes>"
      ]
     },
     "metadata": {
      "needs_background": "light"
     },
     "output_type": "display_data"
    }
   ],
   "source": [
    "plt.imshow(o[0])"
   ]
  },
  {
   "cell_type": "code",
   "execution_count": 40,
   "metadata": {},
   "outputs": [
    {
     "name": "stdout",
     "output_type": "stream",
     "text": [
      "10000\n"
     ]
    }
   ],
   "source": [
    "print(m.shape[0])"
   ]
  },
  {
   "cell_type": "markdown",
   "metadata": {},
   "source": [
    "# FOLD 1"
   ]
  },
  {
   "cell_type": "code",
   "execution_count": 212,
   "metadata": {},
   "outputs": [
    {
     "name": "stderr",
     "output_type": "stream",
     "text": [
      "100%|████████████████████████████████████████████████████████████████████████████████████| 3/3 [00:30<00:00, 10.27s/it]"
     ]
    },
    {
     "name": "stdout",
     "output_type": "stream",
     "text": [
      "dict_items([(14, 6), (15, 6), (16, 7), (17, 7), (18, 8), (19, 8), (20, 9), (3, 1), (4, 1), (5, 2), (6, 3), (7, 3), (8, 3), (9, 4), (10, 4), (11, 4), (12, 4), (13, 5)])\n"
     ]
    },
    {
     "name": "stderr",
     "output_type": "stream",
     "text": [
      "\n"
     ]
    }
   ],
   "source": [
    "kset=dict() # K values (1 to 20)\n",
    "selecteddataset=fold1\n",
    "selectedlist=list()\n",
    "totallist=list()\n",
    "datalist=[fold2,fold3,fold4,fold5]\n",
    "data=selecteddataset[b'data']\n",
    "reshapedata=data.reshape(10000,3,32,32).transpose(0,2,3,1).astype(\"uint8\")\n",
    "datalabel=selecteddataset[b'labels']\n",
    "for liquid in range(reshapedata.shape[0]): # total range  10000\n",
    "    selectedlist.append((reshapedata[liquid],datalabel[liquid])) \n",
    "for heal in datalist: #merging 4 folds\n",
    "    left=heal[b'data'] #both label and images are stored\n",
    "    reshapedata1=left.reshape(10000,3,32,32).transpose(0,2,3,1).astype(\"uint8\")\n",
    "    datalabel1=heal[b'labels'] #only labels are stored\n",
    "    for liquid in range(reshapedata1.shape[0]): #now adding images and labels of 4 folds\n",
    "        totallist.append((reshapedata1[liquid],datalabel1[liquid]))    \n",
    "for rr in tqdm(range(3)): \n",
    "    test=random.randint(0,9999) #picking random int  \n",
    "    for k in range(20): #for k = 1 to 20 \n",
    "        totalimg=list()\n",
    "        for train in range(len(totallist)):\n",
    "            test_img=selectedlist[test][0]\n",
    "            train_image=totallist[train][0]\n",
    "            dist=test_img-train_image  # using Manhatten/ L1\n",
    "            modulas=np.absolute(dist) #taking absolute value \n",
    "            totalsum=np.sum(modulas)\n",
    "            totalimg.append((totalsum,totallist[train][1]))\n",
    "        sortedlist=sorted(totalimg,key=lambda x:x[0]) #sorting the distance of totalimage list\n",
    "        prediction=list()\n",
    "        for ab in range(k+1): # for all k values creating prediction list and appending for each value of k\n",
    "            prediction.append(sortedlist[ab][1])\n",
    "        for imt in range(len(prediction)):\n",
    "            if selectedlist[test][1]==prediction[imt]:\n",
    "                kset[k+1]=kset.get(k+1, 0)+1\n",
    "        \n",
    "print(kset.items())\n",
    "            \n",
    "        \n",
    "            "
   ]
  },
  {
   "cell_type": "code",
   "execution_count": 221,
   "metadata": {},
   "outputs": [
    {
     "data": {
      "text/plain": [
       "[2, 6, 8, 6, 2, 6, 8, 3, 0, 2, 6, 2, 3, 4, 5, 7, 8, 6, 2, 6]"
      ]
     },
     "execution_count": 221,
     "metadata": {},
     "output_type": "execute_result"
    }
   ],
   "source": [
    "prediction"
   ]
  },
  {
   "cell_type": "markdown",
   "metadata": {},
   "source": [
    "# FOLD 2"
   ]
  },
  {
   "cell_type": "code",
   "execution_count": 208,
   "metadata": {},
   "outputs": [
    {
     "name": "stderr",
     "output_type": "stream",
     "text": [
      "100%|████████████████████████████████████████████████████████████████████████████████████| 3/3 [00:31<00:00, 10.36s/it]"
     ]
    },
    {
     "name": "stdout",
     "output_type": "stream",
     "text": [
      "dict_items([(6, 6), (7, 7), (8, 7), (9, 7), (10, 8), (11, 10), (12, 11), (13, 12), (14, 13), (15, 14), (16, 15), (17, 16), (18, 17), (19, 18), (20, 18), (3, 2), (4, 3), (5, 4)])\n"
     ]
    },
    {
     "name": "stderr",
     "output_type": "stream",
     "text": [
      "\n"
     ]
    }
   ],
   "source": [
    "totallist=list()\n",
    "selecteddataset=fold2\n",
    "selectedlist=list()\n",
    "datalist=[fold1,fold3,fold4,fold5]\n",
    "data=selecteddataset[b'data']\n",
    "reshapedata=data.reshape(10000,3,32,32).transpose(0,2,3,1).astype(\"uint8\")\n",
    "datalabel=selecteddataset[b'labels']\n",
    "for liquid in range(reshapedata.shape[0]):\n",
    "    selectedlist.append((reshapedata[liquid],datalabel[liquid]))\n",
    "for heal in datalist:\n",
    "    left=heal[b'data']\n",
    "    reshapedata1=left.reshape(10000,3,32,32).transpose(0,2,3,1).astype(\"uint8\")\n",
    "    datalabel1=heal[b'labels']\n",
    "    for liquid in range(reshapedata1.shape[0]):\n",
    "        totallist.append((reshapedata1[liquid],datalabel1[liquid]))\n",
    "        \n",
    "\n",
    "kset1=dict()\n",
    "totalset=dict()\n",
    "for rr in tqdm(range(3)):\n",
    "    test=random.randint(0,9999)\n",
    "    #test=rr\n",
    "    for k in range(20):\n",
    "        totalimg=list()\n",
    "        for train in range(len(totallist)):\n",
    "            test_img=selectedlist[test][0]\n",
    "            train_image=totallist[train][0]\n",
    "            dist=test_img-train_image\n",
    "            modulas=np.absolute(dist)\n",
    "            totalsum=np.sum(modulas)\n",
    "            totalimg.append((totalsum,totallist[train][1]))\n",
    "        sortedlist=sorted(totalimg,key=lambda x:x[0])\n",
    "        prediction=list()\n",
    "        for ab in range(k+1):\n",
    "            prediction.append(sortedlist[ab][1])\n",
    "        for imt in range(len(prediction)):\n",
    "            if selectedlist[test][1]==prediction[imt]:\n",
    "                kset1[k+1]=kset1.get(k+1, 0)+1\n",
    "        \n",
    "print(kset1.items())"
   ]
  },
  {
   "cell_type": "markdown",
   "metadata": {},
   "source": [
    "# FOLD 3"
   ]
  },
  {
   "cell_type": "code",
   "execution_count": 196,
   "metadata": {},
   "outputs": [
    {
     "name": "stderr",
     "output_type": "stream",
     "text": [
      "100%|████████████████████████████████████████████████████████████████████████████████████| 3/3 [00:31<00:00, 10.37s/it]"
     ]
    },
    {
     "name": "stdout",
     "output_type": "stream",
     "text": [
      "dict_items([(5, 4), (6, 5), (7, 7), (8, 9), (9, 11), (10, 12), (11, 14), (12, 16), (13, 17), (14, 18), (15, 18), (16, 19), (17, 19), (18, 20), (19, 20), (20, 20), (4, 3), (1, 1), (2, 1), (3, 1)])\n"
     ]
    },
    {
     "name": "stderr",
     "output_type": "stream",
     "text": [
      "\n"
     ]
    }
   ],
   "source": [
    "totallist=list()\n",
    "selecteddataset=fold3\n",
    "selectedlist=list()\n",
    "datalist=[fold1,fold2,fold4,fold5]\n",
    "data=selecteddataset[b'data']\n",
    "reshapedata=data.reshape(10000,3,32,32).transpose(0,2,3,1).astype(\"uint8\")\n",
    "datalabel=selecteddataset[b'labels']\n",
    "for liquid in range(reshapedata.shape[0]):\n",
    "    selectedlist.append((reshapedata[liquid],datalabel[liquid]))\n",
    "for heal in datalist:\n",
    "    left=heal[b'data']\n",
    "    reshapedata1=left.reshape(10000,3,32,32).transpose(0,2,3,1).astype(\"uint8\")\n",
    "    datalabel1=heal[b'labels']\n",
    "    for liquid in range(reshapedata1.shape[0]):\n",
    "        totallist.append((reshapedata1[liquid],datalabel1[liquid]))\n",
    "        \n",
    "#for test in range(len(selectedlist)):\n",
    "kset2=dict()\n",
    "totalset=dict()\n",
    "for rr in tqdm(range(3)):\n",
    "    test=random.randint(0,9999)\n",
    "    #test=rr\n",
    "    for k in range(20):\n",
    "        totalimg=list()\n",
    "        for train in range(len(totallist)):\n",
    "            test_img=selectedlist[test][0]\n",
    "            train_image=totallist[train][0]\n",
    "            dist=test_img-train_image\n",
    "            modulas=np.absolute(dist)\n",
    "            totalsum=np.sum(modulas)\n",
    "            totalimg.append((totalsum,totallist[train][1]))\n",
    "        sortedlist=sorted(totalimg,key=lambda x:x[0])\n",
    "        prediction=list()\n",
    "        for ab in range(k+1):\n",
    "            prediction.append(sortedlist[ab][1])\n",
    "        for imt in range(len(prediction)):\n",
    "            if selectedlist[test][1]==prediction[imt]:\n",
    "                kset2[k+1]=kset2.get(k+1, 0)+1\n",
    "        \n",
    "print(kset2.items())"
   ]
  },
  {
   "cell_type": "markdown",
   "metadata": {},
   "source": [
    "# FOLD 4"
   ]
  },
  {
   "cell_type": "code",
   "execution_count": 204,
   "metadata": {},
   "outputs": [
    {
     "name": "stderr",
     "output_type": "stream",
     "text": [
      "100%|████████████████████████████████████████████████████████████████████████████████████| 3/3 [00:30<00:00, 10.31s/it]"
     ]
    },
    {
     "name": "stdout",
     "output_type": "stream",
     "text": [
      "dict_items([(2, 1), (3, 1), (4, 2), (5, 2), (6, 3), (7, 3), (8, 3), (9, 3), (10, 4), (11, 5), (12, 5), (13, 5), (14, 5), (15, 5), (16, 6), (17, 6), (18, 7), (19, 8), (20, 8)])\n"
     ]
    },
    {
     "name": "stderr",
     "output_type": "stream",
     "text": [
      "\n"
     ]
    }
   ],
   "source": [
    "totallist=list()\n",
    "selecteddataset=fold4\n",
    "selectedlist=list()\n",
    "datalist=[datalist=[fold1,fold2,fold3,fold5]\n",
    "data=selecteddataset[b'data']\n",
    "reshapedata=data.reshape(10000,3,32,32).transpose(0,2,3,1).astype(\"uint8\")\n",
    "datalabel=selecteddataset[b'labels']\n",
    "for liquid in range(reshapedata.shape[0]):\n",
    "    selectedlist.append((reshapedata[liquid],datalabel[liquid]))\n",
    "for heal in datalist:\n",
    "    left=heal[b'data']\n",
    "    reshapedata1=left.reshape(10000,3,32,32).transpose(0,2,3,1).astype(\"uint8\")\n",
    "    datalabel1=heal[b'labels']\n",
    "    for liquid in range(reshapedata1.shape[0]):\n",
    "        totallist.append((reshapedata1[liquid],datalabel1[liquid]))\n",
    "        \n",
    "#for test in range(len(selectedlist)):\n",
    "kset3=dict()\n",
    "totalset=dict()\n",
    "for rr in tqdm(range(3)):\n",
    "    test=random.randint(0,9999)\n",
    "    #test=rr\n",
    "    for k in range(20):\n",
    "        totalimg=list()\n",
    "        for train in range(len(totallist)):\n",
    "            test_img=selectedlist[test][0]\n",
    "            train_image=totallist[train][0]\n",
    "            dist=test_img-train_image\n",
    "            modulas=np.absolute(dist)\n",
    "            totalsum=np.sum(modulas)\n",
    "            totalimg.append((totalsum,totallist[train][1]))\n",
    "        sortedlist=sorted(totalimg,key=lambda x:x[0])\n",
    "        prediction=list()\n",
    "        for ab in range(k+1):\n",
    "            prediction.append(sortedlist[ab][1])\n",
    "        for imt in range(len(prediction)):\n",
    "            if selectedlist[test][1]==prediction[imt]:\n",
    "                kset3[k+1]=kset3.get(k+1, 0)+1\n",
    "        \n",
    "print(kset3.items())"
   ]
  },
  {
   "cell_type": "markdown",
   "metadata": {},
   "source": [
    "# FOLD 5"
   ]
  },
  {
   "cell_type": "code",
   "execution_count": 188,
   "metadata": {},
   "outputs": [
    {
     "name": "stderr",
     "output_type": "stream",
     "text": [
      "100%|████████████████████████████████████████████████████████████████████████████████████| 3/3 [00:31<00:00, 10.38s/it]"
     ]
    },
    {
     "name": "stdout",
     "output_type": "stream",
     "text": [
      "dict_items([(1, 1), (2, 2), (3, 4), (4, 6), (5, 7), (6, 8), (7, 9), (8, 11), (9, 12), (10, 13), (11, 14), (12, 15), (13, 16), (14, 18), (15, 19), (16, 20), (17, 21), (18, 22), (19, 23), (20, 24)])\n"
     ]
    },
    {
     "name": "stderr",
     "output_type": "stream",
     "text": [
      "\n"
     ]
    }
   ],
   "source": [
    "totallist=list()\n",
    "selecteddataset=fold5\n",
    "selectedlist=list()\n",
    "datalist=[datalist=[fold1,fold2,fold4,fold5]\n",
    "data=selecteddataset[b'data']\n",
    "reshapedata=data.reshape(10000,3,32,32).transpose(0,2,3,1).astype(\"uint8\")\n",
    "datalabel=selecteddataset[b'labels']\n",
    "for liquid in range(reshapedata.shape[0]):\n",
    "    selectedlist.append((reshapedata[liquid],datalabel[liquid]))\n",
    "for heal in datalist:\n",
    "    left=heal[b'data']\n",
    "    reshapedata1=left.reshape(10000,3,32,32).transpose(0,2,3,1).astype(\"uint8\")\n",
    "    datalabel1=heal[b'labels']\n",
    "    for liquid in range(reshapedata1.shape[0]):\n",
    "        totallist.append((reshapedata1[liquid],datalabel1[liquid]))\n",
    "        \n",
    "#for test in range(len(selectedlist)):\n",
    "kset4=dict()\n",
    "totalset=dict()\n",
    "for rr in tqdm(range(3)):\n",
    "    test=random.randint(0,9999)\n",
    "    #test=rr\n",
    "    for k in range(20):\n",
    "        totalimg=list()\n",
    "        for train in range(len(totallist)):\n",
    "            test_img=selectedlist[test][0]\n",
    "            train_image=totallist[train][0]\n",
    "            dist=test_img-train_image\n",
    "            modulas=np.absolute(dist)\n",
    "            totalsum=np.sum(modulas)\n",
    "            totalimg.append((totalsum,totallist[train][1]))\n",
    "        sortedlist=sorted(totalimg,key=lambda x:x[0])\n",
    "        prediction=list()\n",
    "        for ab in range(k+1):\n",
    "            prediction.append(sortedlist[ab][1])\n",
    "        for imt in range(len(prediction)):\n",
    "            if selectedlist[test][1]==prediction[imt]:\n",
    "                kset4[k+1]=kset4.get(k+1, 0)+1\n",
    "        \n",
    "print(kset4.items())"
   ]
  },
  {
   "cell_type": "code",
   "execution_count": 217,
   "metadata": {},
   "outputs": [
    {
     "name": "stdout",
     "output_type": "stream",
     "text": [
      "[13.33, 13.33, 20.0, 25.0, 25.33, 27.78, 27.62, 27.5, 27.41, 27.33, 28.48, 28.33, 28.21, 28.57, 27.56, 27.92, 27.06, 27.41, 27.02, 26.33]\n"
     ]
    }
   ],
   "source": [
    "dictionary=dict()\n",
    "for l in range(20):\n",
    "    dictionary[l+1]=(kset.get(l+1,0)+kset1.get(l+1,0)+kset2.get(l+1,0)+kset3.get(l+1,0)+kset4.get(l+1,0)) # adding k value of all folds\n",
    "accuracy=list()\n",
    "for h in range(20):\n",
    "    accuracy.append(float(format(dictionary[h+1]*100/((h+1)*3*5),'.2f'))) # calculting accuracy\n",
    "print(accuracy)"
   ]
  },
  {
   "cell_type": "code",
   "execution_count": 218,
   "metadata": {},
   "outputs": [
    {
     "data": {
      "text/plain": [
       "Text(0, 0.5, 'Accuracy')"
      ]
     },
     "execution_count": 218,
     "metadata": {},
     "output_type": "execute_result"
    },
    {
     "data": {
      "image/png": "[encoded data removed]",
      "text/plain": [
       "<Figure size 432x288 with 1 Axes>"
      ]
     },
     "metadata": {
      "needs_background": "light"
     },
     "output_type": "display_data"
    }
   ],
   "source": [
    "plt.plot(accuracy)\n",
    "plt.title(\"Cross-Validation\")\n",
    "plt.xlabel(\"K\")\n",
    "plt.ylabel(\"Accuracy\")"
   ]
  },
  {
   "cell_type": "code",
   "execution_count": null,
   "metadata": {},
   "outputs": [],
   "source": []
  }
 ],
 "metadata": {
  "kernelspec": {
   "display_name": "Python 3",
   "language": "python",
   "name": "python3"
  },
  "language_info": {
   "codemirror_mode": {
    "name": "ipython",
    "version": 3
   },
   "file_extension": ".py",
   "mimetype": "text/x-python",
   "name": "python",
   "nbconvert_exporter": "python",
   "pygments_lexer": "ipython3",
   "version": "3.7.6"
  }
 },
 "nbformat": 4,
 "nbformat_minor": 4
}
